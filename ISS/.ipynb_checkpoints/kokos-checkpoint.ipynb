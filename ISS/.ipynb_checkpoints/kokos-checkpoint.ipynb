{
 "cells": [
  {
   "cell_type": "markdown",
   "metadata": {},
   "source": [
    "## Zdroje a tutoriĂĄly"
   ]
  },
  {
   "cell_type": "markdown",
   "metadata": {},
   "source": [
    "Pro prĂĄci se signĂĄly budeme pouĹžĂ­vat pĹedevĹĄĂ­m knihoven Numpy, Scipy (hlavnÄ Scipy.signal) a Matplotlib:\n",
    "* Numpy http://www.numpy.org/\n",
    "* Scipy.signal https://docs.scipy.org/doc/scipy/reference/signal.html\n",
    "* Matplotlib https://matplotlib.org/\n",
    "\n",
    "NemyslĂ­m, Ĺže je potĹeba k tÄmto knihovnĂĄm studovat zdlouhavĂŠ tutoriĂĄly, spĂ­ĹĄe pouĹžĂ­vat jejich dokumentacĂ­ a za chodu hledat, co je potĹeba. Pokud by ale nÄkdo pĹece jen chtÄl, napĹĂ­klad tyto zdroje vypadajĂ­ dobĹe:\n",
    "* http://www.scipy-lectures.org/\n",
    "* https://www.machinelearningplus.com/python/numpy-tutorial-part1-array-python-examples/\n",
    "* https://www.datacamp.com/community/tutorials/matplotlib-tutorial-python"
   ]
  },
  {
   "cell_type": "markdown",
   "metadata": {},
   "source": [
    "DĂĄle tady jen zbÄĹžnÄ upozornĂ­m na pĂĄr vÄci, na kterĂŠ si dĂĄt v Pythonu pozor pĹi dÄlĂĄnĂ­ projektu."
   ]
  },
  {
   "cell_type": "markdown",
   "metadata": {},
   "source": [
    "## NaÄĂ­tĂĄnĂ­ wavky"
   ]
  },
  {
   "cell_type": "markdown",
   "metadata": {},
   "source": [
    "Pro Python existuje spousta knihoven, kterĂŠ dokĂĄĹžĂ­ naÄĂ­st zvukovĂ˝ soubor, je moĹžnĂŠ vyuĹžĂ­t kteroukoli z nich. Je dobrĂŠ si ale dĂĄt pozor na to, jakĂ˝ interval hodnot rĹŻznĂŠ tooly naÄĂ­tajĂ­. NarozdĂ­l od Matlabu, kde se hodnoty pĹeÄtenĂŠ z `wav` souboru implicitnÄ normalizujĂ­ do intervalu $-1\\dots1$, nÄkterĂŠ knihovny v Pythonu naÄĂ­tajĂ­ hodnoty jako integer, tzn $-32768\\dots32767$. Pro potĹeby projektu chceme hodnoty v intervalu $-1\\dots1$, je tedy tĹeba normalizovat podÄlenĂ­m $2^{15}$."
   ]
  },
  {
   "cell_type": "code",
   "execution_count": 1,
   "metadata": {},
   "outputs": [
    {
     "data": {
      "text/plain": [
       "(-29259, 29770)"
      ]
     },
     "execution_count": 1,
     "metadata": {},
     "output_type": "execute_result"
    }
   ],
   "source": [
    "# scipy - potreba normalizace\n",
    "from scipy.io import wavfile\n",
    "fs, data = wavfile.read('music.wav')\n",
    "data.min(), data.max()"
   ]
  },
  {
   "cell_type": "code",
   "execution_count": 2,
   "metadata": {},
   "outputs": [
    {
     "data": {
      "text/plain": [
       "(-0.892913818359375, 0.90850830078125)"
      ]
     },
     "execution_count": 2,
     "metadata": {},
     "output_type": "execute_result"
    }
   ],
   "source": [
    "data = data / 2**15\n",
    "data.min(), data.max()"
   ]
  },
  {
   "cell_type": "code",
   "execution_count": 3,
   "metadata": {},
   "outputs": [
    {
     "data": {
      "text/plain": [
       "(-29259, 29770)"
      ]
     },
     "execution_count": 3,
     "metadata": {},
     "output_type": "execute_result"
    }
   ],
   "source": [
    "# wavio - potreba normalizace\n",
    "import wavio\n",
    "d = wavio.read('music.wav')\n",
    "data = d.data\n",
    "data.min(), data.max()"
   ]
  },
  {
   "cell_type": "code",
   "execution_count": 4,
   "metadata": {},
   "outputs": [
    {
     "data": {
      "text/plain": [
       "(-0.892913818359375, 0.90850830078125)"
      ]
     },
     "execution_count": 4,
     "metadata": {},
     "output_type": "execute_result"
    }
   ],
   "source": [
    "data = data / 2**15\n",
    "data.min(), data.max()"
   ]
  },
  {
   "cell_type": "code",
   "execution_count": 5,
   "metadata": {},
   "outputs": [
    {
     "data": {
      "text/plain": [
       "(-0.892913818359375, 0.90850830078125)"
      ]
     },
     "execution_count": 5,
     "metadata": {},
     "output_type": "execute_result"
    }
   ],
   "source": [
    "# soundfile - neni potreba normalizace\n",
    "import soundfile\n",
    "data, fs = soundfile.read('music.wav')\n",
    "data.min(), data.max()"
   ]
  },
  {
   "cell_type": "markdown",
   "metadata": {},
   "source": [
    "## PoÄĂ­tĂĄnĂ­ nul a pĂłlĹŻ z $b$,$a$ koeficientu"
   ]
  },
  {
   "cell_type": "markdown",
   "metadata": {},
   "source": [
    "Pro vĂ˝poÄet nul a pĂłlĹŻ z koeficientĹŻ $b$,$a$ lze vyuĹžĂ­t funkce `tf2zpk` z knihovny `scipy.signal`, kterĂĄ je ekvivalentem stejnojmennĂŠ funkce v Matlabu. Funkce ze `scipy` se ale od funkce z Matlabu (a toho, jak koeficienty $b$,$a$ pouĹžĂ­vĂĄme v ISSku) lehce liĹĄĂ­. Pro ekvivalentnĂ­ vĂ˝sledky je tĹeba pro `scipy` zadat stejnĂ˝ poÄet koeficientĹŻ $a$ a $b$ - ty, kterĂ˝ch je mĂŠnÄ doplnit nulami."
   ]
  },
  {
   "cell_type": "code",
   "execution_count": 6,
   "metadata": {
    "collapsed": true
   },
   "outputs": [],
   "source": [
    "from scipy.signal import tf2zpk"
   ]
  },
  {
   "cell_type": "code",
   "execution_count": 7,
   "metadata": {},
   "outputs": [
    {
     "name": "stdout",
     "output_type": "stream",
     "text": [
      "Nuly: []\n",
      "PĂłly: [-2.5  0.2]\n"
     ]
    }
   ],
   "source": [
    "# takto nedostaneme stejnĂ˝ vĂ˝sledek jako v Matlabu\n",
    "a1 = [1, 2.3, -0.5]\n",
    "b1 = [2.3]\n",
    "z1, p1, _ = tf2zpk(b1, a1)\n",
    "print(f'Nuly: {z1}')\n",
    "print(f'PĂłly: {p1}')"
   ]
  },
  {
   "cell_type": "code",
   "execution_count": 8,
   "metadata": {},
   "outputs": [
    {
     "name": "stdout",
     "output_type": "stream",
     "text": [
      "Nuly: [ 0.  0.]\n",
      "PĂłly: [-2.5  0.2]\n"
     ]
    }
   ],
   "source": [
    "# takto dostaneme stejnĂ˝ vĂ˝sledek jako v Matlabu a ekvivalentnĂ­ tomu, jak mĂĄme b,a definovanĂŠ v ISS\n",
    "a2 = [1, 2.3, -0.5]\n",
    "b2 = [2.3, 0, 0]\n",
    "z2, p2, _ = tf2zpk(b2, a2)\n",
    "print(f'Nuly: {z2}')\n",
    "print(f'PĂłly: {p2}')"
   ]
  },
  {
   "cell_type": "markdown",
   "metadata": {},
   "source": [
    "Je to kvĹŻli tomu, Ĺže `tf2zpk` ze `scipy` povaĹžuje $b$,$a$ za koeficienty nĂĄsobĂ­cĂ­ kladnĂŠ mocniny $z$ v pĹenosovĂŠ funkci, zatĂ­mco v Matlabu jsou to koeficienty nĂĄsobĂ­cĂ­ zĂĄpornĂŠ mocniny $z$. Tyto dva pĹĂ­stupy jsou ekvivalentnĂ­, dokud je koeficientĹŻ stejnĂ˝ poÄet.\n",
    "Viz https://docs.scipy.org/doc/scipy-0.14.0/reference/generated/scipy.signal.tf2zpk.html a https://www.mathworks.com/help/signal/ref/tf2zpk.html"
   ]
  },
  {
   "cell_type": "markdown",
   "metadata": {},
   "source": [
    "## UklĂĄdĂĄnĂ­ obrĂĄzkĹŻ"
   ]
  },
  {
   "cell_type": "markdown",
   "metadata": {
    "collapsed": true
   },
   "source": [
    "Grafy vytvoĹenĂŠ v Matplotlibu je dobrĂŠ do dokumentace vklĂĄdat ve vektorovĂŠm formĂĄtu - napĹ. pdf nebo eps. UloĹžit je moĹžnĂŠ jednoduĹĄe pomocĂ­ `plt.savefig`. ObÄas se stane, Ĺže se kolem grafu uloĹžĂ­ do pdf i velkĂ˝ bĂ­lĂ˝ okraj, v takovĂŠm pĹĂ­padÄ zkuste pro `savefig` pĹidat parametry `bbox_inches = 'tight', pad_inches = 0`"
   ]
  },
  {
   "cell_type": "code",
   "execution_count": 10,
   "metadata": {},
   "outputs": [],
   "source": [
    "import matplotlib.pyplot as plt\n",
    "import numpy as np\n",
    "\n",
    "plt.figure()\n",
    "plt.plot(np.arange(100), np.arange(100))\n",
    "plt.savefig('test.pdf')"
   ]
  }
 ],
 "metadata": {
  "kernelspec": {
   "display_name": "Python 3",
   "language": "python",
   "name": "python3"
  },
  "language_info": {
   "codemirror_mode": {
    "name": "ipython",
    "version": 3
   },
   "file_extension": ".py",
   "mimetype": "text/x-python",
   "name": "python",
   "nbconvert_exporter": "python",
   "pygments_lexer": "ipython3",
   "version": "3.7.4"
  }
 },
 "nbformat": 4,
 "nbformat_minor": 2
}
